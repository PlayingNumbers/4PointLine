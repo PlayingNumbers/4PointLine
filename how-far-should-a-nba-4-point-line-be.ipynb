{
 "cells": [
  {
   "cell_type": "markdown",
   "metadata": {},
   "source": [
    "There has been significant buzz in the NBA about teams practicing with a 4-point line in their gyms. They are doing this to spread the floor and create more opportunities on offence. Additionally, the Big3 has introduced 4-point shots in specific circles on the court. While I don't think that a 4-point line will ever be introduced into the NBA, it is a fun exercise to see where the numbers suggest that it should be placed on the court. \n",
    "\n",
    "In my previous analysis I look at how far I believe that the 3-point line should actually be from the hoop: https://www.kaggle.com/kjeeone/how-far-should-the-3-point-line-actually-be. In this one, I evalaute a similar question related to a fabricated 4-point line. "
   ]
  },
  {
   "cell_type": "code",
   "execution_count": 1,
   "metadata": {
    "_cell_guid": "b1076dfc-b9ad-4769-8c92-a6c4dae69d19",
    "_uuid": "8f2839f25d086af736a60e9eeb907d3b93b6e0e5"
   },
   "outputs": [
    {
     "name": "stdout",
     "output_type": "stream",
     "text": [
      "/kaggle/input/nba-shot-logs/shot_logs.csv\n"
     ]
    }
   ],
   "source": [
    "# This Python 3 environment comes with many helpful analytics libraries installed\n",
    "# It is defined by the kaggle/python docker image: https://github.com/kaggle/docker-python\n",
    "# For example, here's several helpful packages to load in \n",
    "\n",
    "import numpy as np # linear algebra\n",
    "import pandas as pd # data processing, CSV file I/O (e.g. pd.read_csv)\n",
    "\n",
    "# Input data files are available in the \"../input/\" directory.\n",
    "# For example, running this (by clicking run or pressing Shift+Enter) will list all files under the input directory\n",
    "\n",
    "import os\n",
    "for dirname, _, filenames in os.walk('/kaggle/input'):\n",
    "    for filename in filenames:\n",
    "        print(os.path.join(dirname, filename))\n",
    "\n",
    "# Any results you write to the current directory are saved as output."
   ]
  },
  {
   "cell_type": "code",
   "execution_count": 2,
   "metadata": {
    "_cell_guid": "79c7e3d0-c299-4dcb-8224-4455121ee9b0",
    "_uuid": "d629ff2d2480ee46fbb7e2d37f6b5fab8052498a"
   },
   "outputs": [],
   "source": [
    "import matplotlib.pyplot as plt \n",
    "import seaborn as sns"
   ]
  },
  {
   "cell_type": "code",
   "execution_count": 3,
   "metadata": {},
   "outputs": [],
   "source": [
    "df = pd.read_csv('/kaggle/input/nba-shot-logs/shot_logs.csv')"
   ]
  },
  {
   "cell_type": "raw",
   "metadata": {},
   "source": [
    "In order to evaluate where a new 4 point line should go, we need to evaluate two project two things:\n",
    "(1) Make probability by distance and (2) The probability density function of shots taken from 4 point range by distance\n",
    "\n",
    "In my previous workbook (linked above), I show why I believe that the 3-point line should actually be a consistent arc 25.2' from the rim rather than a 23.75' and 22' at the corners. The basis for this is that to make the 3-pointer less overpowering, we should make the points per shot of 3-point shots equal to those of 2-point shots. This equilibrium is met at 25.2' for this 2014-2015 dataset. \n",
    "\n",
    "When adding in the 4 point line, we will want to follow this same logic. We want the points per shot for 2-pointers == 3-pointers == 4-pointers.\n",
    "\n",
    "For this analysis I will be using the 25.2' mark as the 3 point line because this is my hypothetical world where NBA decision making is based on math. \n",
    "\n",
    "It should be noted that the 4-point line would technically shrink the number of shots in the 3-point line. Because of the low volume of truly deep 3's being shot, we will ignore this dynamic problem for the first pass at this analysis. \n",
    " "
   ]
  },
  {
   "cell_type": "code",
   "execution_count": 4,
   "metadata": {},
   "outputs": [],
   "source": [
    "make_pct_pps_dist = pd.pivot_table(df, index='SHOT_DIST', values = ['FGM','PTS'] ).reset_index()\n",
    "make_pct_dist = pd.pivot_table(df, index='SHOT_DIST', values = ['FGM'] ).reset_index()\n",
    "make_pct_dist_cnt = pd.pivot_table(df, index='SHOT_DIST', values = ['FGM'], aggfunc='count' ).reset_index()"
   ]
  },
  {
   "cell_type": "code",
   "execution_count": 5,
   "metadata": {},
   "outputs": [],
   "source": [
    "make_pct_dist_cnt.columns = ['SHOT_DIST','SHOT_COUNT']"
   ]
  },
  {
   "cell_type": "code",
   "execution_count": 6,
   "metadata": {},
   "outputs": [
    {
     "data": {
      "text/plain": [
       "<matplotlib.axes._subplots.AxesSubplot at 0x7f4eade5b630>"
      ]
     },
     "execution_count": 6,
     "metadata": {},
     "output_type": "execute_result"
    },
    {
     "data": {
      "image/png": "[encoded data removed]",
      "text/plain": [
       "<Figure size 432x288 with 1 Axes>"
      ]
     },
     "metadata": {
      "needs_background": "light"
     },
     "output_type": "display_data"
    }
   ],
   "source": [
    "make_pct_dist_cnt.plot.line(x='SHOT_DIST')"
   ]
  },
  {
   "cell_type": "markdown",
   "metadata": {},
   "source": [
    "In the graph above, we plot the number of shots by distance on the court. As you can see, there are more shots just outside of 3-point range taken than any other unique shots on the court. \n",
    "\n",
    "* The first spike of volume is near the rim where the points per shot are relatively high. \n",
    "* I expect that the second spike are unguarded shots from mid range. \n",
    "* The third spike is right outside of 22' where the 3-point line comes in on the corners\n",
    "* The final spike is at 24.4' just a few inches into 3-point range\n",
    "\n",
    "From this, we expect that there would be a similar spike in volume around a 4-point line. For this analysis, the raw volume does not matter, we care about the % volume to get points per shot. For simplicity,I will use the same distribution for 4-point shots as we do for 3-point shots. "
   ]
  },
  {
   "cell_type": "code",
   "execution_count": 7,
   "metadata": {},
   "outputs": [
    {
     "name": "stderr",
     "output_type": "stream",
     "text": [
      "/opt/conda/lib/python3.6/site-packages/ipykernel_launcher.py:3: SettingWithCopyWarning: \n",
      "A value is trying to be set on a copy of a slice from a DataFrame.\n",
      "Try using .loc[row_indexer,col_indexer] = value instead\n",
      "\n",
      "See the caveats in the documentation: http://pandas.pydata.org/pandas-docs/stable/user_guide/indexing.html#returning-a-view-versus-a-copy\n",
      "  This is separate from the ipykernel package so we can avoid doing imports until\n"
     ]
    }
   ],
   "source": [
    "threes = make_pct_dist_cnt[make_pct_dist_cnt['SHOT_DIST'] > 23.75]\n",
    "total_threes = threes.SHOT_COUNT.sum()\n",
    "threes['shot_pct'] = threes.SHOT_COUNT / total_threes"
   ]
  },
  {
   "cell_type": "markdown",
   "metadata": {},
   "source": [
    "We can get % of shots taken from each incremental step outside of 3-point range. For the purposes of this analysis, we will assume the % volumes for a 4-point line will be the same by distance. \n",
    "\n",
    "(In reality, I expect the distribution would have a smaller shot distribution leading to more shots from very close to the 4-point line)"
   ]
  },
  {
   "cell_type": "code",
   "execution_count": 8,
   "metadata": {},
   "outputs": [
    {
     "data": {
      "text/html": [
       "<div>\n",
       "<style scoped>\n",
       "    .dataframe tbody tr th:only-of-type {\n",
       "        vertical-align: middle;\n",
       "    }\n",
       "\n",
       "    .dataframe tbody tr th {\n",
       "        vertical-align: top;\n",
       "    }\n",
       "\n",
       "    .dataframe thead th {\n",
       "        text-align: right;\n",
       "    }\n",
       "</style>\n",
       "<table border=\"1\" class=\"dataframe\">\n",
       "  <thead>\n",
       "    <tr style=\"text-align: right;\">\n",
       "      <th></th>\n",
       "      <th>SHOT_DIST</th>\n",
       "      <th>SHOT_COUNT</th>\n",
       "      <th>shot_pct</th>\n",
       "    </tr>\n",
       "  </thead>\n",
       "  <tbody>\n",
       "    <tr>\n",
       "      <td>238</td>\n",
       "      <td>23.8</td>\n",
       "      <td>719</td>\n",
       "      <td>0.028983</td>\n",
       "    </tr>\n",
       "    <tr>\n",
       "      <td>239</td>\n",
       "      <td>23.9</td>\n",
       "      <td>863</td>\n",
       "      <td>0.034787</td>\n",
       "    </tr>\n",
       "    <tr>\n",
       "      <td>240</td>\n",
       "      <td>24.0</td>\n",
       "      <td>1024</td>\n",
       "      <td>0.041277</td>\n",
       "    </tr>\n",
       "    <tr>\n",
       "      <td>241</td>\n",
       "      <td>24.1</td>\n",
       "      <td>1048</td>\n",
       "      <td>0.042244</td>\n",
       "    </tr>\n",
       "    <tr>\n",
       "      <td>242</td>\n",
       "      <td>24.2</td>\n",
       "      <td>1201</td>\n",
       "      <td>0.048412</td>\n",
       "    </tr>\n",
       "  </tbody>\n",
       "</table>\n",
       "</div>"
      ],
      "text/plain": [
       "     SHOT_DIST  SHOT_COUNT  shot_pct\n",
       "238       23.8         719  0.028983\n",
       "239       23.9         863  0.034787\n",
       "240       24.0        1024  0.041277\n",
       "241       24.1        1048  0.042244\n",
       "242       24.2        1201  0.048412"
      ]
     },
     "execution_count": 8,
     "metadata": {},
     "output_type": "execute_result"
    }
   ],
   "source": [
    "threes.head()"
   ]
  },
  {
   "cell_type": "markdown",
   "metadata": {},
   "source": [
    "For our analysis, we will simply add a number to all of the 3-point shot distances to make push them past where our fabricated 4-point line would be. For example, if we wanted to see what a 28.75' 4 point line would look like, we would add 5' to all of the three point values. \n",
    "\n",
    "This takes into account the % quantity of shots taken by distance. \n",
    "\n",
    "Next we have to predict the shot make probability by distance. I use a simple logistic regression to do this. The regression uses makes and misses (1,0) as the dependent variable and distance from the rim as the independent variable. "
   ]
  },
  {
   "cell_type": "code",
   "execution_count": 9,
   "metadata": {},
   "outputs": [],
   "source": [
    "from sklearn.linear_model import LogisticRegression"
   ]
  },
  {
   "cell_type": "code",
   "execution_count": 10,
   "metadata": {},
   "outputs": [
    {
     "data": {
      "text/plain": [
       "<matplotlib.axes._subplots.AxesSubplot at 0x7f4ea7386630>"
      ]
     },
     "execution_count": 10,
     "metadata": {},
     "output_type": "execute_result"
    },
    {
     "data": {
      "image/png": "[encoded data removed]",
      "text/plain": [
       "<Figure size 432x288 with 1 Axes>"
      ]
     },
     "metadata": {
      "needs_background": "light"
     },
     "output_type": "display_data"
    },
    {
     "data": {
      "image/png": "[encoded data removed]",
      "text/plain": [
       "<Figure size 432x288 with 1 Axes>"
      ]
     },
     "metadata": {
      "needs_background": "light"
     },
     "output_type": "display_data"
    }
   ],
   "source": [
    "make_pct_dist.plot.line(x='SHOT_DIST')\n",
    "make_pct_dist_cnt.plot.line(x='SHOT_DIST')"
   ]
  },
  {
   "cell_type": "markdown",
   "metadata": {},
   "source": [
    "The above graph shows FGM % by distance. There is a clear downward trend starting at around 22'. We also see that the samples after around 27.5 feet get very small. Our goal is to project make probability past this mark. \n",
    "\n",
    "I believe that a model trained on only long jumpers (starting at 22') would be most representitive of 4-point jumpers. I trained the logistic regression with this model. \n"
   ]
  },
  {
   "cell_type": "code",
   "execution_count": 11,
   "metadata": {},
   "outputs": [
    {
     "name": "stdout",
     "output_type": "stream",
     "text": [
      "Score:  0.6488711060302944\n"
     ]
    },
    {
     "name": "stderr",
     "output_type": "stream",
     "text": [
      "/opt/conda/lib/python3.6/site-packages/sklearn/utils/validation.py:724: DataConversionWarning: A column-vector y was passed when a 1d array was expected. Please change the shape of y to (n_samples, ), for example using ravel().\n",
      "  y = column_or_1d(y, warn=True)\n"
     ]
    }
   ],
   "source": [
    "three_range = df[df.SHOT_DIST > 22]\n",
    "log_reg = LogisticRegression(solver='lbfgs')\n",
    "log_reg.fit(three_range.SHOT_DIST.values.reshape(-1, 1),three_range.FGM.values.reshape(-1, 1))\n",
    "print('Score: ',log_reg.score(three_range.SHOT_DIST.values.reshape(-1, 1),three_range.FGM.values.reshape(-1, 1)))"
   ]
  },
  {
   "cell_type": "code",
   "execution_count": 12,
   "metadata": {},
   "outputs": [
    {
     "name": "stdout",
     "output_type": "stream",
     "text": [
      "predicted:  0.36410120935183987  actual:  0.3583984375\n"
     ]
    }
   ],
   "source": [
    "predicted_fgm_pct = log_reg.predict_proba(np.array(24).reshape(1,-1))\n",
    "actual_fgm_pct = float(make_pct_dist[make_pct_dist['SHOT_DIST'] == 24].FGM)\n",
    "print('predicted: ', predicted_fgm_pct[0][1], ' actual: ',actual_fgm_pct)"
   ]
  },
  {
   "cell_type": "code",
   "execution_count": 13,
   "metadata": {},
   "outputs": [
    {
     "name": "stdout",
     "output_type": "stream",
     "text": [
      "RMSE:  0.027429007209340134\n",
      "MAE:  0.019903718674985246\n"
     ]
    }
   ],
   "source": [
    "from sklearn.metrics import mean_absolute_error, mean_squared_error\n",
    "from math import sqrt\n",
    "\n",
    "makepcts = make_pct_dist[(make_pct_dist.SHOT_DIST >= 22) & (make_pct_dist.SHOT_DIST <= 27.3)]\n",
    "ypred = log_reg.predict_proba(makepcts.SHOT_DIST.values.reshape(-1,1))\n",
    "ypred[:,1]\n",
    "print('RMSE: ',sqrt(mean_squared_error(makepcts.FGM,ypred[:,1])))\n",
    "print('MAE: ',mean_absolute_error(makepcts.FGM,ypred[:,1]))"
   ]
  },
  {
   "cell_type": "code",
   "execution_count": 14,
   "metadata": {},
   "outputs": [
    {
     "data": {
      "text/plain": [
       "<matplotlib.legend.Legend at 0x7f4ea67ca278>"
      ]
     },
     "execution_count": 14,
     "metadata": {},
     "output_type": "execute_result"
    },
    {
     "data": {
      "image/png": "[encoded data removed]",
      "text/plain": [
       "<Figure size 432x288 with 1 Axes>"
      ]
     },
     "metadata": {
      "needs_background": "light"
     },
     "output_type": "display_data"
    }
   ],
   "source": [
    "log_reg_curve = [log_reg.predict_proba(np.array(i/10).reshape(1,-1))[0][1] for i in range(220,940)]\n",
    "plt.plot([i/10 for i in range(220,940)], log_reg_curve)\n",
    "plt.axvline(x=22, label = 'corner 3', color = 'green')\n",
    "plt.axvline(x=23.75, label = '3 point arc', color = 'orange')\n",
    "plt.axvline(x=25.2, label = \"Ken's 3\", color = 'red')\n",
    "plt.axvline(x=47, label = \"Half Court\", color = 'black')\n",
    "plt.legend()\n"
   ]
  },
  {
   "cell_type": "markdown",
   "metadata": {},
   "source": [
    "This graph shows our projected make % by distance over the length of the court. "
   ]
  },
  {
   "cell_type": "code",
   "execution_count": 15,
   "metadata": {},
   "outputs": [
    {
     "data": {
      "text/plain": [
       "[<matplotlib.lines.Line2D at 0x7f4ea6782d30>]"
      ]
     },
     "execution_count": 15,
     "metadata": {},
     "output_type": "execute_result"
    },
    {
     "data": {
      "image/png": "[encoded data removed]",
      "text/plain": [
       "<Figure size 432x288 with 1 Axes>"
      ]
     },
     "metadata": {
      "needs_background": "light"
     },
     "output_type": "display_data"
    }
   ],
   "source": [
    "log_reg_curve = [log_reg.predict_proba(np.array(i/10).reshape(-1,1))[0][1] for i in range(220,275)]\n",
    "actual_fgm_pct = [float(make_pct_dist[make_pct_dist['SHOT_DIST'] == i/10].FGM) for i in range(220,275)]\n",
    "plt.plot([i/10 for i in range(220,275)], log_reg_curve)\n",
    "plt.plot([i/10 for i in range(220,275)], actual_fgm_pct)\n"
   ]
  },
  {
   "cell_type": "markdown",
   "metadata": {},
   "source": [
    "This graph shows projected vs actual make percent by distance. There is a clear downward trend, however there is obviously a lot of noise in the real data. "
   ]
  },
  {
   "cell_type": "markdown",
   "metadata": {},
   "source": [
    "Now we get to do the fun stuff, we get to project where the actual 4 point line should be. Again, we do this by setting the points per shot of the 4-point shots equal to those of 3-pointers and 2-pointers. \n",
    "\n",
    "To get points per shot for 4-pointers we use the following equation: \n",
    "    points_per_shot_from_range = (% of shots from certain range) x (make % from that range)\n",
    "    next we sum(points_per_shot_from_range) for all 4-point shots. \n",
    "    \n",
    "We want to set the points per shot = ~.9 (as seen in my 3-point line analysis)\n"
   ]
  },
  {
   "cell_type": "code",
   "execution_count": 16,
   "metadata": {},
   "outputs": [],
   "source": [
    "ken_threes = threes.copy()\n",
    "ken_threes['SHOT_DIST'] = ken_threes.SHOT_DIST.apply(lambda x: x+1.45)\n",
    "ken_threes['shot_pct'] = ken_threes.SHOT_COUNT / ken_threes.SHOT_COUNT.sum()"
   ]
  },
  {
   "cell_type": "code",
   "execution_count": 17,
   "metadata": {},
   "outputs": [],
   "source": [
    "ken_threes['proj_make_pct'] = ken_threes.SHOT_DIST.apply(lambda x: log_reg.predict_proba(np.array(x).reshape(-1,1))[0][1])"
   ]
  },
  {
   "cell_type": "code",
   "execution_count": 18,
   "metadata": {},
   "outputs": [],
   "source": [
    "ken_threes['pps'] = ken_threes.shot_pct*ken_threes.proj_make_pct*3"
   ]
  },
  {
   "cell_type": "code",
   "execution_count": 19,
   "metadata": {},
   "outputs": [
    {
     "data": {
      "text/plain": [
       "0.8978327909270424"
      ]
     },
     "execution_count": 19,
     "metadata": {},
     "output_type": "execute_result"
    }
   ],
   "source": [
    "ken_threes.pps.sum()"
   ]
  },
  {
   "cell_type": "markdown",
   "metadata": {},
   "source": [
    "Our new model is slightly off from the real data, about 2%. I believe that this is still good enough to extrapolate upon. The real data suggests that the points per shot equilibrium is ~.92, our model slightly under predicts at ~.90. \n",
    "\n",
    "We will still use .92 as our benchmark. "
   ]
  },
  {
   "cell_type": "markdown",
   "metadata": {},
   "source": [
    "Now let's evaluate the 4-point, points per shot using the 3 point distribution. We simply add the number to all of our metrics to get the starting point."
   ]
  },
  {
   "cell_type": "code",
   "execution_count": 20,
   "metadata": {},
   "outputs": [],
   "source": [
    "def pps_fpoint(three_distribution, size, pps_benchmark):\n",
    "    new_distribution = three_distribution\n",
    "    plot_data = []\n",
    "    closest = ''\n",
    "    diff = 1000\n",
    "    for i in range(1,size*10):\n",
    "        new_distribution.SHOT_DIST = new_distribution.SHOT_DIST.apply(lambda x: x + (i/10))\n",
    "        new_distribution['proj_make_pct'] = new_distribution.SHOT_DIST.apply(lambda x: log_reg.predict_proba(np.array(x).reshape(-1,1))[0][1])\n",
    "        new_distribution['pps'] = new_distribution.shot_pct*new_distribution.proj_make_pct*4\n",
    "        points_per_shot = new_distribution.pps.sum()\n",
    "        plot_data.append((25.2+i/10,points_per_shot))\n",
    "        if abs(points_per_shot - pps_benchmark) < diff:\n",
    "            closest = str(25.2+i/10)\n",
    "            diff = abs(points_per_shot - pps_benchmark)\n",
    "    return (closest,diff,points_per_shot), plot_data\n",
    "        \n",
    "        \n",
    "        "
   ]
  },
  {
   "cell_type": "code",
   "execution_count": 21,
   "metadata": {},
   "outputs": [],
   "source": [
    "closest, four_pt_dist = pps_fpoint(ken_threes,30,.92)"
   ]
  },
  {
   "cell_type": "code",
   "execution_count": 22,
   "metadata": {},
   "outputs": [
    {
     "data": {
      "text/plain": [
       "('26.0', 0.027131899445961838, 5.125449052967697e-216)"
      ]
     },
     "execution_count": 22,
     "metadata": {},
     "output_type": "execute_result"
    }
   ],
   "source": [
    "closest"
   ]
  },
  {
   "cell_type": "code",
   "execution_count": 23,
   "metadata": {},
   "outputs": [
    {
     "data": {
      "text/plain": [
       "[(25.3, 1.1879036519186017),\n",
       " (25.4, 1.1696123960930862),\n",
       " (25.5, 1.142485194542291),\n",
       " (25.599999999999998, 1.106904487320991),\n",
       " (25.7, 1.0633959142694518),\n",
       " (25.8, 1.012637215916498),\n",
       " (25.9, 0.9554638469600484),\n",
       " (26.0, 0.8928681005540382),\n",
       " (26.099999999999998, 0.825988603338868),\n",
       " (26.2, 0.7560876685940723),\n",
       " (26.3, 0.6845152772242178),\n",
       " (26.4, 0.6126603415454046),\n",
       " (26.5, 0.5418921485804711),\n",
       " (26.599999999999998, 0.4734970412586294),\n",
       " (26.7, 0.4086169386084344),\n",
       " (26.8, 0.34819674003593065),\n",
       " (26.9, 0.29294676483796867),\n",
       " (27.0, 0.24332426629445703),\n",
       " (27.099999999999998, 0.19953519953348778),\n",
       " (27.2, 0.1615544859523288),\n",
       " (27.3, 0.12916065631865226),\n",
       " (27.4, 0.10197940151879555),\n",
       " (27.5, 0.07953032813211991),\n",
       " (27.599999999999998, 0.061271928821889206),\n",
       " (27.7, 0.046641082970282285),\n",
       " (27.8, 0.03508491301776494),\n",
       " (27.9, 0.026084220263118036),\n",
       " (28.0, 0.019168817327247505),\n",
       " (28.099999999999998, 0.013925793086112968),\n",
       " (28.2, 0.010002111503353905),\n",
       " (28.3, 0.0071030316391167345),\n",
       " (28.4, 0.0049877317876738615),\n",
       " (28.5, 0.003463309169027225),\n",
       " (28.599999999999998, 0.0023780729100611178),\n",
       " (28.7, 0.0016147966591553344),\n",
       " (28.8, 0.0010843742465446863),\n",
       " (28.9, 0.0007201394885993318),\n",
       " (29.0, 0.00047297217031650244),\n",
       " (29.099999999999998, 0.0003072133158604008),\n",
       " (29.2, 0.000197348032401924),\n",
       " (29.299999999999997, 0.00012537642396489248),\n",
       " (29.4, 7.877540741310552e-05),\n",
       " (29.5, 4.895060816543703e-05),\n",
       " (29.6, 3.008283942533273e-05),\n",
       " (29.7, 1.828408746201226e-05),\n",
       " (29.799999999999997, 1.0990609301568267e-05),\n",
       " (29.9, 6.5337791300960505e-06),\n",
       " (30.0, 3.841505399901188e-06),\n",
       " (30.1, 2.2337411300875114e-06),\n",
       " (30.2, 1.284572662967327e-06),\n",
       " (30.299999999999997, 7.305988442678826e-07),\n",
       " (30.4, 4.1095453256505307e-07),\n",
       " (30.5, 2.2861412930485425e-07),\n",
       " (30.6, 1.2577863206978664e-07),\n",
       " (30.7, 6.843923962257275e-08),\n",
       " (30.799999999999997, 3.6829684297512367e-08),\n",
       " (30.9, 1.9601320481904672e-08),\n",
       " (31.0, 1.0317326550858562e-08),\n",
       " (31.1, 5.370856360356129e-09),\n",
       " (31.2, 2.765122735611592e-09),\n",
       " (31.299999999999997, 1.4079259156025651e-09),\n",
       " (31.4, 7.089893433770932e-10),\n",
       " (31.5, 3.5309708028779435e-10),\n",
       " (31.6, 1.7391741031379135e-10),\n",
       " (31.7, 8.47201094436244e-11),\n",
       " (31.799999999999997, 4.081543888951797e-11),\n",
       " (31.9, 1.9447194067445493e-11),\n",
       " (32.0, 9.163975934318922e-12),\n",
       " (32.1, 4.270762753573709e-12),\n",
       " (32.2, 1.968436763437234e-12),\n",
       " (32.3, 8.972882964071136e-13),\n",
       " (32.4, 4.045172567380223e-13),\n",
       " (32.5, 1.803585014393778e-13),\n",
       " (32.6, 7.952994783341022e-14),\n",
       " (32.7, 3.468321048577986e-14),\n",
       " (32.8, 1.495899441841415e-14),\n",
       " (32.9, 6.3808718604724215e-15),\n",
       " (33.0, 2.6918580906702824e-15),\n",
       " (33.1, 1.1231009984881316e-15),\n",
       " (33.2, 4.634255566507842e-16),\n",
       " (33.3, 1.891192172815905e-16),\n",
       " (33.4, 7.632834711233512e-17),\n",
       " (33.5, 3.046706145082558e-17),\n",
       " (33.6, 1.2027345693886359e-17),\n",
       " (33.7, 4.695734499976699e-18),\n",
       " (33.8, 1.813141874559149e-18),\n",
       " (33.9, 6.923960108482087e-19),\n",
       " (34.0, 2.6150008880107347e-19),\n",
       " (34.1, 9.767504924893965e-20),\n",
       " (34.2, 3.608194595316516e-20),\n",
       " (34.3, 1.318228749489588e-20),\n",
       " (34.4, 4.7630607527476195e-21),\n",
       " (34.5, 1.702064358062463e-21),\n",
       " (34.6, 6.0153423406952205e-22),\n",
       " (34.7, 2.1025156364259858e-22),\n",
       " (34.8, 7.267961776819469e-23),\n",
       " (34.9, 2.484737700493005e-23),\n",
       " (35.0, 8.401232020601697e-24),\n",
       " (35.1, 2.809311668471892e-24),\n",
       " (35.2, 9.290762999294907e-25),\n",
       " (35.3, 3.0387666742229936e-25),\n",
       " (35.4, 9.829645209441825e-26),\n",
       " (35.5, 3.1446538353751244e-26),\n",
       " (35.6, 9.94952533235318e-27),\n",
       " (35.7, 3.113338868804453e-27),\n",
       " (35.8, 9.63484960294422e-28),\n",
       " (35.9, 2.9488861151314206e-28),\n",
       " (36.0, 8.926178676455999e-29),\n",
       " (36.1, 2.672192039177256e-29),\n",
       " (36.2, 7.911599062783314e-30),\n",
       " (36.3, 2.3166231366914787e-30),\n",
       " (36.4, 6.7087409604525835e-31),\n",
       " (36.5, 1.9214149759934399e-31),\n",
       " (36.6, 5.442467373729467e-32),\n",
       " (36.7, 1.524631932859253e-32),\n",
       " (36.8, 4.224046628898219e-33),\n",
       " (36.9, 1.1574091470921664e-33),\n",
       " (37.0, 3.1364591207225207e-34),\n",
       " (37.1, 8.405951255447832e-35),\n",
       " (37.2, 2.228068905016886e-35),\n",
       " (37.3, 5.8406997682952355e-36),\n",
       " (37.4, 1.5142433049321643e-36),\n",
       " (37.5, 3.882584856313928e-37),\n",
       " (37.6, 9.845567749402633e-38),\n",
       " (37.7, 2.469193291087159e-38),\n",
       " (37.8, 6.124405335714033e-39),\n",
       " (37.9, 1.502336707178592e-39),\n",
       " (38.0, 3.644728189122982e-40),\n",
       " (38.1, 8.744953960025163e-41),\n",
       " (38.2, 2.075125769404513e-41),\n",
       " (38.3, 4.869964937581613e-42),\n",
       " (38.4, 1.1303209049710074e-42),\n",
       " (38.5, 2.59461067053069e-43),\n",
       " (38.6, 5.890296472525166e-44),\n",
       " (38.7, 1.32250287117825e-44),\n",
       " (38.8, 2.9366393055416404e-45),\n",
       " (38.9, 6.4490999180873325e-46),\n",
       " (39.0, 1.4006902918808147e-46),\n",
       " (39.1, 3.008705265579328e-47),\n",
       " (39.2, 6.391630907923826e-48),\n",
       " (39.3, 1.3428832130349631e-48),\n",
       " (39.4, 2.7903540792980987e-49),\n",
       " (39.5, 5.734227273392242e-50),\n",
       " (39.6, 1.165426804306871e-50),\n",
       " (39.7, 2.3425540353494542e-51),\n",
       " (39.8, 4.656812447137861e-52),\n",
       " (39.9, 9.155506837392347e-53),\n",
       " (40.0, 1.7802071872717512e-53),\n",
       " (40.1, 3.423365136197618e-54),\n",
       " (40.2, 6.510740882388597e-55),\n",
       " (40.3, 1.2246221602383217e-55),\n",
       " (40.4, 2.278076642144179e-56),\n",
       " (40.5, 4.191110032278332e-57),\n",
       " (40.6, 7.625780653298296e-58),\n",
       " (40.7, 1.3722526244136419e-58),\n",
       " (40.8, 2.4421837969284995e-59),\n",
       " (40.9, 4.2985020241714287e-60),\n",
       " (41.0, 7.482564001626128e-61),\n",
       " (41.1, 1.288185064304489e-61),\n",
       " (41.2, 2.193312901836156e-62),\n",
       " (41.3, 3.693324285235742e-63),\n",
       " (41.4, 6.150760330625875e-64),\n",
       " (41.5, 1.0130588673480796e-64),\n",
       " (41.599999999999994, 1.650194268862611e-65),\n",
       " (41.7, 2.658459088289138e-66),\n",
       " (41.8, 4.235643526554972e-67),\n",
       " (41.9, 6.674263344779747e-68),\n",
       " (42.0, 1.0401160284761109e-68),\n",
       " (42.099999999999994, 1.6030783693324022e-69),\n",
       " (42.2, 2.4435556479673163e-70),\n",
       " (42.3, 3.6836997795757965e-71),\n",
       " (42.4, 5.492129094824326e-72),\n",
       " (42.5, 8.098260828713052e-73),\n",
       " (42.599999999999994, 1.1809657389148048e-73),\n",
       " (42.7, 1.7032458955939896e-74),\n",
       " (42.8, 2.429472112743769e-75),\n",
       " (42.9, 3.4272122389970643e-76),\n",
       " (43.0, 4.781504804058489e-77),\n",
       " (43.099999999999994, 6.597550261104419e-78),\n",
       " (43.2, 9.003167560107284e-79),\n",
       " (43.3, 1.2150732869309953e-79),\n",
       " (43.4, 1.6218255122809234e-80),\n",
       " (43.5, 2.1409192994682357e-81),\n",
       " (43.599999999999994, 2.795059008749995e-82),\n",
       " (43.7, 3.608911062906793e-83),\n",
       " (43.8, 4.6084607461889615e-84),\n",
       " (43.9, 5.820095625694225e-85),\n",
       " (44.0, 7.26940495260262e-86),\n",
       " (44.099999999999994, 8.979706030480414e-87),\n",
       " (44.2, 1.0970335025113171e-87),\n",
       " (44.3, 1.3254769408886652e-88),\n",
       " (44.4, 1.5838679738725618e-89),\n",
       " (44.5, 1.8718036618146137e-90),\n",
       " (44.599999999999994, 2.1877420901802633e-91),\n",
       " (44.7, 2.5288697801715354e-92),\n",
       " (44.8, 2.8910215276495972e-93),\n",
       " (44.9, 3.268667155417619e-94),\n",
       " (45.0, 3.6549764854533457e-95),\n",
       " (45.099999999999994, 4.041969107753634e-96),\n",
       " (45.2, 4.42074950751476e-97),\n",
       " (45.3, 4.781821265787382e-98),\n",
       " (45.4, 5.115466978523911e-99),\n",
       " (45.5, 5.41217394990283e-100),\n",
       " (45.599999999999994, 5.663080331797421e-101),\n",
       " (45.7, 5.860412856468415e-102),\n",
       " (45.8, 5.997886141315462e-103),\n",
       " (45.9, 6.071034999947642e-104),\n",
       " (46.0, 6.077455262557003e-105),\n",
       " (46.099999999999994, 6.016934989628695e-106),\n",
       " (46.2, 5.891466089741703e-107),\n",
       " (46.3, 5.7051354531385135e-108),\n",
       " (46.4, 5.46390390066748e-109),\n",
       " (46.5, 5.1752896250827013e-110),\n",
       " (46.599999999999994, 4.8479795673554035e-111),\n",
       " (46.7, 4.491396713114952e-112),\n",
       " (46.8, 4.115253258795526e-113),\n",
       " (46.9, 3.729118917453254e-114),\n",
       " (47.0, 3.342030527392506e-115),\n",
       " (47.099999999999994, 2.9621640510124265e-116),\n",
       " (47.2, 2.5965836374105592e-117),\n",
       " (47.3, 2.2510753877673974e-118),\n",
       " (47.4, 1.9300665223252258e-119),\n",
       " (47.5, 1.6366244335650216e-120),\n",
       " (47.599999999999994, 1.3725251082015562e-121),\n",
       " (47.7, 1.1383769142493452e-122),\n",
       " (47.8, 9.337838886306874e-124),\n",
       " (47.9, 7.575323563609389e-125),\n",
       " (48.0, 6.077857496179748e-126),\n",
       " (48.099999999999994, 4.822745600414798e-127),\n",
       " (48.2, 3.7847108775862215e-128),\n",
       " (48.3, 2.9374168232941936e-129),\n",
       " (48.4, 2.2547217897537116e-130),\n",
       " (48.5, 1.711649590544053e-131),\n",
       " (48.599999999999994, 1.2850832819587385e-132),\n",
       " (48.7, 9.542061285528092e-134),\n",
       " (48.8, 7.007250511752349e-135),\n",
       " (48.9, 5.08917752935405e-136),\n",
       " (49.0, 3.6554603073887014e-137),\n",
       " (49.099999999999994, 2.5967554911220753e-138),\n",
       " (49.2, 1.8243768780188436e-139),\n",
       " (49.3, 1.2676301925760193e-140),\n",
       " (49.4, 8.71094164990048e-142),\n",
       " (49.5, 5.920142345380663e-143),\n",
       " (49.599999999999994, 3.979181128086986e-144),\n",
       " (49.7, 2.6451468148225077e-145),\n",
       " (49.8, 1.7390031558916063e-146),\n",
       " (49.9, 1.1306950033715377e-147),\n",
       " (50.0, 7.270848414952168e-149),\n",
       " (50.099999999999994, 4.6240148743988546e-150),\n",
       " (50.2, 2.908358031702523e-151),\n",
       " (50.3, 1.8091352272302028e-152),\n",
       " (50.4, 1.1129834488785011e-153),\n",
       " (50.5, 6.7717496875109925e-155),\n",
       " (50.599999999999994, 4.074812233365493e-156),\n",
       " (50.7, 2.4249836838402074e-157),\n",
       " (50.8, 1.4272647995707273e-158),\n",
       " (50.9, 8.30796778203662e-160),\n",
       " (51.0, 4.782770776648971e-161),\n",
       " (51.099999999999994, 2.7230702463349255e-162),\n",
       " (51.2, 1.5333194240264167e-163),\n",
       " (51.3, 8.538880670219213e-165),\n",
       " (51.4, 4.7028785784075174e-166),\n",
       " (51.5, 2.5616577313478744e-167),\n",
       " (51.599999999999994, 1.3799805110626702e-168),\n",
       " (51.7, 7.352233958599403e-170),\n",
       " (51.8, 3.874005192216877e-171),\n",
       " (51.9, 2.0188106773841195e-172),\n",
       " (52.0, 1.0404602720806325e-173),\n",
       " (52.099999999999994, 5.303345557012109e-175),\n",
       " (52.2, 2.673430289750062e-176),\n",
       " (52.3, 1.3328531944233421e-177),\n",
       " (52.4, 6.571889985868033e-179),\n",
       " (52.5, 3.204739747126621e-180),\n",
       " (52.599999999999994, 1.5455738580946714e-181),\n",
       " (52.7, 7.37193122196763e-183),\n",
       " (52.8, 3.477501296433932e-184),\n",
       " (52.9, 1.622362282261381e-185),\n",
       " (53.0, 7.485535873966648e-187),\n",
       " (53.099999999999994, 3.4158002473318173e-188),\n",
       " (53.2, 1.5415462170872031e-189),\n",
       " (53.3, 6.88042315319763e-191),\n",
       " (53.4, 3.037164129489783e-192),\n",
       " (53.5, 1.325915629407381e-193),\n",
       " (53.599999999999994, 5.724769861110999e-195),\n",
       " (53.7, 2.444526162277819e-196),\n",
       " (53.8, 1.0323473833529444e-197),\n",
       " (53.9, 4.311729901383164e-199),\n",
       " (54.0, 1.7810321064904373e-200),\n",
       " (54.099999999999994, 7.275895686077638e-202),\n",
       " (54.2, 2.9396504632660035e-203),\n",
       " (54.3, 1.1746255377842166e-204),\n",
       " (54.4, 4.641920496861376e-206),\n",
       " (54.5, 1.8142221782860667e-207),\n",
       " (54.599999999999994, 7.012578892359167e-209),\n",
       " (54.7, 2.680770051875442e-210),\n",
       " (54.8, 1.0135283024426618e-211),\n",
       " (54.9, 3.7897164152193303e-213),\n",
       " (55.0, 1.4014320961181208e-214),\n",
       " (55.099999999999994, 5.125449052967697e-216)]"
      ]
     },
     "execution_count": 23,
     "metadata": {},
     "output_type": "execute_result"
    }
   ],
   "source": [
    "four_pt_dist"
   ]
  },
  {
   "cell_type": "markdown",
   "metadata": {},
   "source": [
    "It looks like the model that I built actually projects a 4-point line to only be a few inches back from where my 3-point line was at 26' even. There is a relatively steep drop-off as we get incrementally further from the rim. \n",
    "\n",
    "Most of the other analysis I look at only takes into account shots right at the 3 point or 4 point line. This evaluates for all shots beyond that point. \n"
   ]
  },
  {
   "cell_type": "markdown",
   "metadata": {},
   "source": []
  }
 ],
 "metadata": {
  "kernelspec": {
   "display_name": "Python 3",
   "language": "python",
   "name": "python3"
  },
  "language_info": {
   "codemirror_mode": {
    "name": "ipython",
    "version": 3
   },
   "file_extension": ".py",
   "mimetype": "text/x-python",
   "name": "python",
   "nbconvert_exporter": "python",
   "pygments_lexer": "ipython3",
   "version": "3.6.6"
  }
 },
 "nbformat": 4,
 "nbformat_minor": 1
}
